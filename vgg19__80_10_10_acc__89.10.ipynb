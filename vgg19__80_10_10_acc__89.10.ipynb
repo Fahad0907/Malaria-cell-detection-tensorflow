{
 "cells": [
  {
   "cell_type": "code",
   "execution_count": 1,
   "metadata": {},
   "outputs": [],
   "source": [
    "import tensorflow as tf\n",
    "from tensorflow.keras.layers import Input, Lambda, Dense, Flatten\n",
    "from tensorflow.keras.models import Model\n",
    "from tensorflow.keras.applications.vgg19 import VGG19\n",
    "from tensorflow.keras.applications.vgg16 import preprocess_input\n",
    "from tensorflow.keras.preprocessing import image\n",
    "from tensorflow.keras.preprocessing.image import ImageDataGenerator\n",
    "from tensorflow.keras.models import Sequential"
   ]
  },
  {
   "cell_type": "code",
   "execution_count": 2,
   "metadata": {},
   "outputs": [],
   "source": [
    "IMAGE_SIZE = [224, 224]\n",
    "vgg = VGG19(input_shape=IMAGE_SIZE + [3], weights='imagenet', include_top=False)"
   ]
  },
  {
   "cell_type": "code",
   "execution_count": 3,
   "metadata": {},
   "outputs": [],
   "source": [
    "for layer in vgg.layers:\n",
    "  layer.trainable = False"
   ]
  },
  {
   "cell_type": "code",
   "execution_count": 4,
   "metadata": {},
   "outputs": [],
   "source": [
    "x = Flatten()(vgg.output)\n",
    "x = Dense(512, activation='relu', name='fc')(x)\n",
    "prediction = Dense(46, activation='softmax', name='prediction')(x)\n",
    "model = Model(inputs=vgg.input, outputs=prediction)"
   ]
  },
  {
   "cell_type": "code",
   "execution_count": 5,
   "metadata": {},
   "outputs": [],
   "source": [
    "model.compile(\n",
    "  loss='categorical_crossentropy',\n",
    "  optimizer='adam',\n",
    "  metrics=['accuracy']\n",
    ")"
   ]
  },
  {
   "cell_type": "code",
   "execution_count": 6,
   "metadata": {},
   "outputs": [],
   "source": [
    "from keras.preprocessing.image import ImageDataGenerator\n",
    "train_datagen = ImageDataGenerator(rescale=1./255,\n",
    "    shear_range=0.2,\n",
    "    zoom_range=0.2,\n",
    "    horizontal_flip=False,\n",
    "    vertical_flip=False,\n",
    "    #validation_split=0.2\n",
    "                                  )\n",
    "test_datagen = ImageDataGenerator(rescale = 1./255)"
   ]
  },
  {
   "cell_type": "code",
   "execution_count": 9,
   "metadata": {},
   "outputs": [
    {
     "name": "stdout",
     "output_type": "stream",
     "text": [
      "Found 2128 images belonging to 46 classes.\n",
      "Found 266 images belonging to 46 classes.\n"
     ]
    }
   ],
   "source": [
    "training_set = train_datagen.flow_from_directory('Datasets/dataset_80_10_10/train',\n",
    "                                                 target_size=(224,224),\n",
    "                                                 batch_size=32,\n",
    "                                                 class_mode='categorical')\n",
    "validation = test_datagen.flow_from_directory('Datasets/dataset_80_10_10/validation', \n",
    "                                            target_size=(224,224),\n",
    "                                            batch_size=32,\n",
    "                                            class_mode='categorical')"
   ]
  },
  {
   "cell_type": "code",
   "execution_count": 11,
   "metadata": {},
   "outputs": [
    {
     "name": "stdout",
     "output_type": "stream",
     "text": [
      "WARNING:tensorflow:From <ipython-input-11-61b218c9a449>:1: Model.fit_generator (from tensorflow.python.keras.engine.training) is deprecated and will be removed in a future version.\n",
      "Instructions for updating:\n",
      "Please use Model.fit, which supports generators.\n",
      "Epoch 1/20\n",
      "67/67 [==============================] - 27s 400ms/step - loss: 4.4930 - accuracy: 0.1414 - val_loss: 2.6639 - val_accuracy: 0.4173\n",
      "Epoch 2/20\n",
      "67/67 [==============================] - 17s 258ms/step - loss: 2.1450 - accuracy: 0.4981 - val_loss: 1.5272 - val_accuracy: 0.6805\n",
      "Epoch 3/20\n",
      "67/67 [==============================] - 17s 255ms/step - loss: 1.2555 - accuracy: 0.7218 - val_loss: 1.1407 - val_accuracy: 0.7030\n",
      "Epoch 4/20\n",
      "67/67 [==============================] - 17s 259ms/step - loss: 0.7955 - accuracy: 0.8219 - val_loss: 0.8166 - val_accuracy: 0.7970\n",
      "Epoch 5/20\n",
      "67/67 [==============================] - 17s 257ms/step - loss: 0.5559 - accuracy: 0.8853 - val_loss: 0.6766 - val_accuracy: 0.8195\n",
      "Epoch 6/20\n",
      "67/67 [==============================] - 18s 271ms/step - loss: 0.3945 - accuracy: 0.9281 - val_loss: 0.6726 - val_accuracy: 0.8346\n",
      "Epoch 7/20\n",
      "67/67 [==============================] - 18s 268ms/step - loss: 0.2819 - accuracy: 0.9525 - val_loss: 0.5837 - val_accuracy: 0.8271\n",
      "Epoch 8/20\n",
      "67/67 [==============================] - 19s 288ms/step - loss: 0.2404 - accuracy: 0.9549 - val_loss: 0.5484 - val_accuracy: 0.8459\n",
      "Epoch 9/20\n",
      "67/67 [==============================] - 18s 261ms/step - loss: 0.1690 - accuracy: 0.9732 - val_loss: 0.4996 - val_accuracy: 0.8496\n",
      "Epoch 10/20\n",
      "67/67 [==============================] - 18s 262ms/step - loss: 0.1378 - accuracy: 0.9789 - val_loss: 0.5207 - val_accuracy: 0.8346\n",
      "Epoch 11/20\n",
      "67/67 [==============================] - 18s 272ms/step - loss: 0.1092 - accuracy: 0.9897 - val_loss: 0.4632 - val_accuracy: 0.8609\n",
      "Epoch 12/20\n",
      "67/67 [==============================] - 18s 272ms/step - loss: 0.0860 - accuracy: 0.9911 - val_loss: 0.4679 - val_accuracy: 0.8684\n",
      "Epoch 13/20\n",
      "67/67 [==============================] - 18s 269ms/step - loss: 0.0770 - accuracy: 0.9939 - val_loss: 0.4339 - val_accuracy: 0.8684\n",
      "Epoch 14/20\n",
      "67/67 [==============================] - 18s 267ms/step - loss: 0.0543 - accuracy: 0.9981 - val_loss: 0.4196 - val_accuracy: 0.8835\n",
      "Epoch 15/20\n",
      "67/67 [==============================] - 18s 268ms/step - loss: 0.0469 - accuracy: 0.9977 - val_loss: 0.4277 - val_accuracy: 0.8797\n",
      "Epoch 16/20\n",
      "67/67 [==============================] - 18s 263ms/step - loss: 0.0502 - accuracy: 0.9939 - val_loss: 0.3999 - val_accuracy: 0.8722\n",
      "Epoch 17/20\n",
      "67/67 [==============================] - 18s 263ms/step - loss: 0.0376 - accuracy: 0.9977 - val_loss: 0.3991 - val_accuracy: 0.8722\n",
      "Epoch 18/20\n",
      "67/67 [==============================] - 18s 266ms/step - loss: 0.0294 - accuracy: 0.9991 - val_loss: 0.4085 - val_accuracy: 0.8722\n",
      "Epoch 19/20\n",
      "67/67 [==============================] - 19s 281ms/step - loss: 0.0253 - accuracy: 0.9995 - val_loss: 0.4011 - val_accuracy: 0.8835\n",
      "Epoch 20/20\n",
      "67/67 [==============================] - 18s 268ms/step - loss: 0.0219 - accuracy: 0.9995 - val_loss: 0.4178 - val_accuracy: 0.8910\n"
     ]
    }
   ],
   "source": [
    "r = model.fit_generator(\n",
    "  training_set,\n",
    "  validation_data=validation,\n",
    "  epochs=20,\n",
    "  steps_per_epoch=len(training_set),\n",
    "  validation_steps=len(validation)\n",
    ")"
   ]
  },
  {
   "cell_type": "code",
   "execution_count": 12,
   "metadata": {},
   "outputs": [
    {
     "data": {
      "image/png": "[encoded data removed]",
      "text/plain": [
       "<Figure size 432x288 with 1 Axes>"
      ]
     },
     "metadata": {
      "needs_background": "light"
     },
     "output_type": "display_data"
    },
    {
     "data": {
      "image/png": "[encoded data removed]",
      "text/plain": [
       "<Figure size 432x288 with 1 Axes>"
      ]
     },
     "metadata": {
      "needs_background": "light"
     },
     "output_type": "display_data"
    },
    {
     "data": {
      "text/plain": [
       "<Figure size 432x288 with 0 Axes>"
      ]
     },
     "metadata": {},
     "output_type": "display_data"
    }
   ],
   "source": [
    "import matplotlib.pyplot as plt\n",
    "# plot the loss\n",
    "plt.plot(r.history['loss'], label='train loss')\n",
    "plt.plot(r.history['val_loss'], label='val loss')\n",
    "plt.legend()\n",
    "plt.show()\n",
    "plt.savefig('LossVal_loss')\n",
    "\n",
    "# plot the accuracy\n",
    "plt.plot(r.history['accuracy'], label='train acc')\n",
    "plt.plot(r.history['val_accuracy'], label='val acc')\n",
    "plt.legend()\n",
    "plt.show()\n",
    "plt.savefig('AccVal_acc')"
   ]
  },
  {
   "cell_type": "code",
   "execution_count": 13,
   "metadata": {},
   "outputs": [
    {
     "name": "stdout",
     "output_type": "stream",
     "text": [
      "Found 266 images belonging to 46 classes.\n"
     ]
    }
   ],
   "source": [
    "test = test_datagen.flow_from_directory('Datasets/dataset_80_10_10/test',\n",
    "                                            target_size = (224, 224),\n",
    "                                            batch_size = 32,\n",
    "                                            class_mode = 'categorical')\n",
    "X_test,y_test=test.next()"
   ]
  },
  {
   "cell_type": "code",
   "execution_count": 14,
   "metadata": {},
   "outputs": [
    {
     "name": "stdout",
     "output_type": "stream",
     "text": [
      "1/1 [==============================] - 0s 160ms/step - loss: 0.3938 - accuracy: 0.8750\n"
     ]
    }
   ],
   "source": [
    "test_loss, test_acc = model.evaluate(X_test, y_test)"
   ]
  },
  {
   "cell_type": "code",
   "execution_count": null,
   "metadata": {},
   "outputs": [],
   "source": []
  }
 ],
 "metadata": {
  "kernelspec": {
   "display_name": "TensorFlow",
   "language": "python",
   "name": "tensorflow"
  },
  "language_info": {
   "codemirror_mode": {
    "name": "ipython",
    "version": 3
   },
   "file_extension": ".py",
   "mimetype": "text/x-python",
   "name": "python",
   "nbconvert_exporter": "python",
   "pygments_lexer": "ipython3",
   "version": "3.8.5"
  }
 },
 "nbformat": 4,
 "nbformat_minor": 4
}
